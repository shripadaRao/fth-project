{
  "nbformat": 4,
  "nbformat_minor": 0,
  "metadata": {
    "colab": {
      "name": "fth2.ipynb",
      "provenance": []
    },
    "kernelspec": {
      "name": "python3",
      "display_name": "Python 3"
    },
    "language_info": {
      "name": "python"
    }
  },
  "cells": [
    {
      "cell_type": "code",
      "source": [
        "from sympy import *\n",
        "import numpy as np"
      ],
      "metadata": {
        "id": "uGSUB6YN0v0l"
      },
      "execution_count": 70,
      "outputs": []
    },
    {
      "cell_type": "markdown",
      "source": [
        "#Capacitance due to Spherical Shells\n",
        "WKT, Laplace's equation is ∇²V=0\n",
        "\n",
        "We'll expand ∇²V in rectangular form & since Potential in this case varies with r, we obtain:\n",
        "\n",
        "(1/r²)*(∂/∂r){r²*(∂V/∂r)} = 0\n",
        "\n",
        "Integrating both sides twice yields,\n",
        "\n",
        "V = (-A/r) + B\n"
      ],
      "metadata": {
        "id": "sSncw23jucz9"
      }
    },
    {
      "cell_type": "code",
      "source": [
        "A, B, V, d, dS, S, C, r, x, y, pot = symbols('A, B, V, d, dS, S, C, r, x, y, pot') #defining constants\n",
        "\n",
        "V = (-A/r) + B #A,B are integration constants"
      ],
      "metadata": {
        "id": "6qNsWGFDuceU"
      },
      "execution_count": 71,
      "outputs": []
    },
    {
      "cell_type": "markdown",
      "source": [
        "#Calculating Constants by applying Boundry Conditions.\n",
        "The 1st sphere has radius a and the 2nd has radius b where a<b.\n",
        "\n",
        "At,\n",
        "\n",
        "r= 0.5, V1= 0.\n",
        "\n",
        "r= 3, V2= 100."
      ],
      "metadata": {
        "id": "ZN5JLkuByUDc"
      }
    },
    {
      "cell_type": "code",
      "source": [
        "r1 = 0.5\n",
        "r2 = 3\n",
        "v1 = 0\n",
        "v2 = 100"
      ],
      "metadata": {
        "id": "vByYsHpCyTve"
      },
      "execution_count": 72,
      "outputs": []
    },
    {
      "cell_type": "code",
      "execution_count": 73,
      "metadata": {
        "colab": {
          "base_uri": "https://localhost:8080/"
        },
        "id": "jtqt3G_-uNOY",
        "outputId": "f53b9ca5-1391-4986-e3e3-04f713cb7cb4"
      },
      "outputs": [
        {
          "output_type": "stream",
          "name": "stdout",
          "text": [
            "A= 60.0000000000000 \n",
            "B= 120.000000000000\n"
          ]
        }
      ],
      "source": [
        "eq1 = Eq(((-x/r1) + y - v1), 0)       # 0 = (-A/0.5) + B\n",
        "eq2 = Eq(((-x/r2) + y - v2), 0)       # 100 = (-A/3) + B\n",
        "#Solving both equations for A & B\n",
        "val = solve((eq1, eq2), (x, y))\n",
        "A_val = val[x]\n",
        "B_val = val[y]\n",
        "print('A=', A_val, '\\nB=', B_val)"
      ]
    },
    {
      "cell_type": "markdown",
      "source": [
        "#Calculating Potential, V\n",
        "\n",
        "V = (-A/r) + B"
      ],
      "metadata": {
        "id": "48vWHGhB3Ff1"
      }
    },
    {
      "cell_type": "code",
      "source": [
        "r1 = 1.7                     # r1 is the distance at which capacitance is calculated. In this eg: 2\n",
        "pot = (-A_val/r) + B_val\n",
        "potential = (-A_val/r1) + B_val     # V = (-A/r) + B\n",
        "print(\"V =\", pot)\n",
        "print(\"V =\", potential, \"V\\t\\tat r= 1.7\")"
      ],
      "metadata": {
        "colab": {
          "base_uri": "https://localhost:8080/"
        },
        "id": "3VcSTJ6o3Nv2",
        "outputId": "58b423d0-7b06-4c3d-f820-4a361359db11"
      },
      "execution_count": 74,
      "outputs": [
        {
          "output_type": "stream",
          "name": "stdout",
          "text": [
            "V = 120.0 - 60.0/r\n",
            "V = 84.7058823529412 V\t\tat r= 1.7\n"
          ]
        }
      ]
    },
    {
      "cell_type": "markdown",
      "source": [
        "#Calculating Electric field Intensity, E\n",
        "E = -∇*V\n",
        "\n",
        "E = -(∂V)/(∂r) aᵣ\n",
        "\n",
        "//aᵣ is direction"
      ],
      "metadata": {
        "id": "iXfRD9m335Ad"
      }
    },
    {
      "cell_type": "code",
      "source": [
        "E = diff((-1*pot), r)\n",
        "print(\"E =\", E)\n",
        "E = (-A_val/r1**2)\n",
        "print(\"E =\", E, \"V/m\")"
      ],
      "metadata": {
        "colab": {
          "base_uri": "https://localhost:8080/"
        },
        "id": "P068DZlm7lFe",
        "outputId": "2c371caf-e7a2-4baa-97be-6e8e06dc8e8c"
      },
      "execution_count": 75,
      "outputs": [
        {
          "output_type": "stream",
          "name": "stdout",
          "text": [
            "E = -60.0/r**2\n",
            "E = -20.7612456747405 V/m\n"
          ]
        }
      ]
    },
    {
      "cell_type": "markdown",
      "source": [
        "#Calculating Electric Displacement, D\n",
        "D = ∈*E\n",
        "\n",
        "D = Dₙ = ∈ * (-(∂V)/(∂r))\n",
        "\n",
        "We know that Dₙ = ⍴ₛ \n",
        "\n",
        "Therefore, ⍴ₛ = ∈ * (-(∂V)/(∂r))"
      ],
      "metadata": {
        "id": "fu60Gbet8uov"
      }
    },
    {
      "cell_type": "code",
      "source": [
        "epsi = 8.85 * 10**-12\n",
        "D = epsi*E\n",
        "print('D=', D)\n",
        "Dn = D\n",
        "rhoS = Dn"
      ],
      "metadata": {
        "colab": {
          "base_uri": "https://localhost:8080/"
        },
        "id": "_eEms6vW995n",
        "outputId": "9e84dd96-2e0c-4db5-c820-251d1c281d2e"
      },
      "execution_count": 76,
      "outputs": [
        {
          "output_type": "stream",
          "name": "stdout",
          "text": [
            "D= -1.83737024221453e-10\n"
          ]
        }
      ]
    },
    {
      "cell_type": "markdown",
      "source": [
        "#Calculating Charge, Q\n",
        "\n",
        "Q = (⍴ₛ * Surface Area)\n",
        "\n",
        "Q = ⍴ₛ * 4𝝅r²"
      ],
      "metadata": {
        "id": "lqHDk79CCN1g"
      }
    },
    {
      "cell_type": "code",
      "source": [
        "Q = D * 4 * 3.14 * r1 ** 2\n",
        "print(\"Q =\", Q, \"C\")"
      ],
      "metadata": {
        "colab": {
          "base_uri": "https://localhost:8080/"
        },
        "id": "xSDL-cnmCf5v",
        "outputId": "544f29fb-0842-4592-8236-bd3184cb88ff"
      },
      "execution_count": 77,
      "outputs": [
        {
          "output_type": "stream",
          "name": "stdout",
          "text": [
            "Q = -6.66936000000000e-9 C\n"
          ]
        }
      ]
    },
    {
      "cell_type": "markdown",
      "source": [
        "# Calculating Capacitance, C\n",
        "\n",
        "C = |Q| / V"
      ],
      "metadata": {
        "id": "x3AqnN7yEtt4"
      }
    },
    {
      "cell_type": "code",
      "source": [
        "\n",
        "C = -Q/potential\n",
        "print('\\nCapacitance=', C, 'F')"
      ],
      "metadata": {
        "colab": {
          "base_uri": "https://localhost:8080/"
        },
        "id": "BW6txftQEufY",
        "outputId": "a3db1b1d-53cb-4dec-f4a1-0928d6f68bba"
      },
      "execution_count": 78,
      "outputs": [
        {
          "output_type": "stream",
          "name": "stdout",
          "text": [
            "\n",
            "Capacitance= 7.87355000000000e-11 F\n"
          ]
        }
      ]
    }
  ]
}