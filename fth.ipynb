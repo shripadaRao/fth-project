{
  "cells": [
    {
      "cell_type": "markdown",
      "metadata": {
        "id": "u2yyT_vHmx9B"
      },
      "source": [
        "#Operations for integrations and differentions"
      ]
    },
    {
      "cell_type": "code",
      "execution_count": 279,
      "metadata": {
        "id": "watTKLl9Oc-s"
      },
      "outputs": [],
      "source": [
        "from sympy import *\n",
        "import numpy as np\n"
      ]
    },
    {
      "cell_type": "code",
      "execution_count": 280,
      "metadata": {
        "id": "IPWK0LvsPJ6w"
      },
      "outputs": [],
      "source": [
        "x= Symbol('x')\n",
        "y = Symbol('y')\n",
        "func_diff = x**3 + y**3"
      ]
    },
    {
      "cell_type": "code",
      "execution_count": 281,
      "metadata": {
        "id": "hPlL7A6jTa3N"
      },
      "outputs": [],
      "source": [
        "func1 = diff(func_diff, x)\n",
        "func2 = diff(func1,x)"
      ]
    },
    {
      "cell_type": "code",
      "execution_count": 282,
      "metadata": {
        "colab": {
          "base_uri": "https://localhost:8080/",
          "height": 38
        },
        "id": "mrUIyyZ_T7Yt",
        "outputId": "a4716708-8c5d-4c8e-a01e-fc11455acf43"
      },
      "outputs": [
        {
          "data": {
            "text/latex": [
              "$\\displaystyle 6 x$"
            ],
            "text/plain": [
              "6*x"
            ]
          },
          "execution_count": 282,
          "metadata": {},
          "output_type": "execute_result"
        }
      ],
      "source": [
        "simplify(expand(func2))"
      ]
    },
    {
      "cell_type": "code",
      "execution_count": 283,
      "metadata": {
        "colab": {
          "base_uri": "https://localhost:8080/",
          "height": 38
        },
        "id": "rpxCeFuyPi4H",
        "outputId": "ac81dae8-bf37-420b-e9f3-3f56a9c3f0fc"
      },
      "outputs": [
        {
          "data": {
            "text/latex": [
              "$\\displaystyle 3 x^{2}$"
            ],
            "text/plain": [
              "3*x**2"
            ]
          },
          "execution_count": 283,
          "metadata": {},
          "output_type": "execute_result"
        }
      ],
      "source": [
        "integrate(func2,x)"
      ]
    },
    {
      "cell_type": "code",
      "execution_count": 284,
      "metadata": {
        "id": "xxBhgE2dWBoq"
      },
      "outputs": [],
      "source": [
        "a= Symbol('a')\n",
        "func_diff = a"
      ]
    },
    {
      "cell_type": "code",
      "execution_count": 285,
      "metadata": {
        "colab": {
          "base_uri": "https://localhost:8080/",
          "height": 38
        },
        "id": "0kAHJIluWPn-",
        "outputId": "a568fe68-512b-4f72-cb05-eea9166112ae"
      },
      "outputs": [
        {
          "data": {
            "text/latex": [
              "$\\displaystyle a x$"
            ],
            "text/plain": [
              "a*x"
            ]
          },
          "execution_count": 285,
          "metadata": {},
          "output_type": "execute_result"
        }
      ],
      "source": [
        "integrate(func_diff,x)"
      ]
    },
    {
      "cell_type": "markdown",
      "metadata": {
        "id": "vrp2OKmrzx2y"
      },
      "source": [
        "##Parallel plate Capacitance"
      ]
    },
    {
      "cell_type": "code",
      "execution_count": 286,
      "metadata": {
        "id": "lwRQu7tkWWQe"
      },
      "outputs": [],
      "source": [
        "A, B, V,d,V0,dS,S,C = symbols('A, B, V,d,V0,dS,S,C') #defining constants\n",
        "\n",
        "V = A*x + B #A,B are integration constants"
      ]
    },
    {
      "cell_type": "markdown",
      "metadata": {
        "id": "Xpt8JVofzp3c"
      },
      "source": [
        "Didnt do the integration part"
      ]
    },
    {
      "cell_type": "markdown",
      "metadata": {
        "id": "BzspMj1cfrhW"
      },
      "source": [
        "#Applying boundry conditions.\n",
        " At,\n",
        "\n",
        "x=0, V=0.\n",
        "\n",
        "x=d, V= V0"
      ]
    },
    {
      "cell_type": "code",
      "execution_count": 287,
      "metadata": {
        "id": "B8ZUHAtLbsjG"
      },
      "outputs": [],
      "source": [
        "x_val1=0\n",
        "V=0"
      ]
    },
    {
      "cell_type": "code",
      "execution_count": 288,
      "metadata": {
        "colab": {
          "base_uri": "https://localhost:8080/"
        },
        "id": "LDRWUFDGgJ_b",
        "outputId": "53cc8c5c-3e3e-4105-bbe9-a85dd1fdf388"
      },
      "outputs": [
        {
          "name": "stdout",
          "output_type": "stream",
          "text": [
            "0\n"
          ]
        }
      ],
      "source": [
        "B_val = V - A*x_val1\n",
        "print(B_val)"
      ]
    },
    {
      "cell_type": "code",
      "execution_count": 289,
      "metadata": {
        "id": "w4pvws6FgNSi"
      },
      "outputs": [],
      "source": [
        "x_val2=d\n",
        "V=V0"
      ]
    },
    {
      "cell_type": "code",
      "execution_count": 290,
      "metadata": {
        "colab": {
          "base_uri": "https://localhost:8080/"
        },
        "id": "SMs2t0hti0ju",
        "outputId": "5e716c7f-ace5-4157-eb41-dfd6a4fc92ce"
      },
      "outputs": [
        {
          "name": "stdout",
          "output_type": "stream",
          "text": [
            "V0/d\n"
          ]
        }
      ],
      "source": [
        "A_val = (V-B_val)/x_val\n",
        "print(A_val)"
      ]
    },
    {
      "cell_type": "code",
      "execution_count": 291,
      "metadata": {
        "colab": {
          "base_uri": "https://localhost:8080/"
        },
        "id": "HHwI8ho6jGbp",
        "outputId": "c8c085b4-6c31-42d1-e676-457f20ec3b56"
      },
      "outputs": [
        {
          "name": "stdout",
          "output_type": "stream",
          "text": [
            "V0*x/d\n"
          ]
        }
      ],
      "source": [
        "Potential = A_val*x + B_val\n",
        "print(Potential)"
      ]
    },
    {
      "cell_type": "markdown",
      "metadata": {
        "id": "tpXSBRNkmFxH"
      },
      "source": [
        "#E = -del*Potential\n",
        "\n",
        "E = - d(potential)*ax/dx\n",
        "\n",
        "//ax is direction"
      ]
    },
    {
      "cell_type": "code",
      "execution_count": 292,
      "metadata": {
        "colab": {
          "base_uri": "https://localhost:8080/"
        },
        "id": "93txU7KMkJgE",
        "outputId": "6718950d-8747-418c-ffcd-d7412f7d0e7b"
      },
      "outputs": [
        {
          "name": "stdout",
          "output_type": "stream",
          "text": [
            "-V0/d\n"
          ]
        }
      ],
      "source": [
        "E = diff(-1*Potential,x)\n",
        "print(E)"
      ]
    },
    {
      "cell_type": "markdown",
      "metadata": {
        "id": "U9O3qa6RnRLu"
      },
      "source": [
        "#D = epi*E\n",
        "#D = - (epi*V0/d)\n",
        "\n",
        "#Dn = - (epi*V0/d)\n",
        "We know that rhoS = Dn. Therefore, \n",
        "#rhoS = - (epi*V0/d)"
      ]
    },
    {
      "cell_type": "code",
      "execution_count": 293,
      "metadata": {
        "colab": {
          "base_uri": "https://localhost:8080/"
        },
        "id": "ferxQBr3ms19",
        "outputId": "d1f65fbb-1660-45e3-d025-c2b71654c1d5"
      },
      "outputs": [
        {
          "name": "stdout",
          "output_type": "stream",
          "text": [
            "-8.85e-12*V0/d\n"
          ]
        }
      ],
      "source": [
        "epi = 8.85 * 10**-12\n",
        "D = epi*E\n",
        "print(D)\n",
        "Dn = D\n",
        "rhoS = Dn"
      ]
    },
    {
      "cell_type": "markdown",
      "metadata": {
        "id": "m2PHtKFooy5_"
      },
      "source": [
        "Q = surface integral(rhoS*dS)\n",
        "\n",
        "let (rhoS*dS) be equal to k\n"
      ]
    },
    {
      "cell_type": "code",
      "execution_count": 294,
      "metadata": {
        "colab": {
          "base_uri": "https://localhost:8080/"
        },
        "id": "ftDr5xYvpQQk",
        "outputId": "1e08418e-e55d-423e-f6e6-4b02f30b8dc8"
      },
      "outputs": [
        {
          "name": "stdout",
          "output_type": "stream",
          "text": [
            "-8.85e-12*S*V0/d\n"
          ]
        }
      ],
      "source": [
        "Q = integrate(rhoS,S)\n",
        "print(Q)"
      ]
    },
    {
      "cell_type": "markdown",
      "metadata": {
        "id": "clmKfEYzrTH5"
      },
      "source": [
        "# C = |Q| / V0"
      ]
    },
    {
      "cell_type": "code",
      "execution_count": 295,
      "metadata": {
        "colab": {
          "base_uri": "https://localhost:8080/"
        },
        "id": "WU_74mZoqXfa",
        "outputId": "a3de361b-7f65-4d85-f12b-624b75d58881"
      },
      "outputs": [
        {
          "name": "stdout",
          "output_type": "stream",
          "text": [
            "-8.85e-12*S/d\n"
          ]
        }
      ],
      "source": [
        "C = Q/V0\n",
        "print(C)"
      ]
    },
    {
      "cell_type": "code",
      "execution_count": 296,
      "metadata": {
        "id": "T2j0spZSt40h"
      },
      "outputs": [],
      "source": [
        "def Capacitance_ppc(S,d):\n",
        "  return ((-8.85e-12*S)/d) #ppc -> parallel plate capacitor"
      ]
    },
    {
      "cell_type": "markdown",
      "metadata": {
        "id": "4NkO4nZOtiDJ"
      },
      "source": [
        "#Input for values for S and d"
      ]
    },
    {
      "cell_type": "code",
      "execution_count": 297,
      "metadata": {
        "colab": {
          "base_uri": "https://localhost:8080/"
        },
        "id": "snsG9wJutpFN",
        "outputId": "ce33db12-283e-4a96-f0da-91681bbfe8dc"
      },
      "outputs": [
        {
          "data": {
            "text/plain": [
              "-8.85e-12"
            ]
          },
          "execution_count": 297,
          "metadata": {},
          "output_type": "execute_result"
        }
      ],
      "source": [
        "Capacitance_ppc(10,10) "
      ]
    },
    {
      "cell_type": "code",
      "execution_count": 297,
      "metadata": {
        "id": "e1OQWMAOubrc"
      },
      "outputs": [],
      "source": []
    }
  ],
  "metadata": {
    "colab": {
      "collapsed_sections": [],
      "name": "fth.ipynb",
      "provenance": []
    },
    "kernelspec": {
      "display_name": "Python 3",
      "name": "python3"
    },
    "language_info": {
      "name": "python"
    }
  },
  "nbformat": 4,
  "nbformat_minor": 0
}
