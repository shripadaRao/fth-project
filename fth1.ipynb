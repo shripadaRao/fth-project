{
  "cells": [
    {
      "cell_type": "markdown",
      "metadata": {
        "id": "u2yyT_vHmx9B"
      },
      "source": [
        "#Operations for integrations and differentions"
      ]
    },
    {
      "cell_type": "code",
      "execution_count": 1,
      "metadata": {
        "id": "watTKLl9Oc-s"
      },
      "outputs": [],
      "source": [
        "from sympy import *\n",
        "import numpy as np\n"
      ]
    },
    {
      "cell_type": "code",
      "execution_count": 2,
      "metadata": {
        "id": "IPWK0LvsPJ6w"
      },
      "outputs": [],
      "source": [
        "x = Symbol('x')\n",
        "y = Symbol('y')\n",
        "func_diff = x**3 + y**3"
      ]
    },
    {
      "cell_type": "code",
      "execution_count": 3,
      "metadata": {
        "id": "hPlL7A6jTa3N"
      },
      "outputs": [],
      "source": [
        "func1 = diff(func_diff, x)\n",
        "func2 = diff(func1,x)"
      ]
    },
    {
      "cell_type": "code",
      "execution_count": 4,
      "metadata": {
        "colab": {
          "base_uri": "https://localhost:8080/",
          "height": 39
        },
        "id": "mrUIyyZ_T7Yt",
        "outputId": "e6c8f5bc-e9ce-4535-e3bf-639550c81c9d"
      },
      "outputs": [
        {
          "output_type": "execute_result",
          "data": {
            "text/plain": [
              "6*x"
            ],
            "text/latex": "$\\displaystyle 6 x$"
          },
          "metadata": {},
          "execution_count": 4
        }
      ],
      "source": [
        "simplify(expand(func2))"
      ]
    },
    {
      "cell_type": "code",
      "execution_count": 6,
      "metadata": {
        "colab": {
          "base_uri": "https://localhost:8080/",
          "height": 39
        },
        "id": "rpxCeFuyPi4H",
        "outputId": "71fa5ea8-4c05-4787-8420-3cd62c6f71dd"
      },
      "outputs": [
        {
          "output_type": "execute_result",
          "data": {
            "text/plain": [
              "3*x**2"
            ],
            "text/latex": "$\\displaystyle 3 x^{2}$"
          },
          "metadata": {},
          "execution_count": 6
        }
      ],
      "source": [
        "integrate(func2,x)"
      ]
    },
    {
      "cell_type": "code",
      "execution_count": null,
      "metadata": {
        "id": "xxBhgE2dWBoq"
      },
      "outputs": [],
      "source": [
        "a= Symbol('a')\n",
        "func_diff = a"
      ]
    },
    {
      "cell_type": "code",
      "execution_count": null,
      "metadata": {
        "colab": {
          "base_uri": "https://localhost:8080/",
          "height": 38
        },
        "id": "0kAHJIluWPn-",
        "outputId": "a568fe68-512b-4f72-cb05-eea9166112ae"
      },
      "outputs": [
        {
          "data": {
            "text/latex": [
              "$\\displaystyle a x$"
            ],
            "text/plain": [
              "a*x"
            ]
          },
          "execution_count": 285,
          "metadata": {},
          "output_type": "execute_result"
        }
      ],
      "source": [
        "integrate(func_diff,x)"
      ]
    },
    {
      "cell_type": "markdown",
      "metadata": {
        "id": "vrp2OKmrzx2y"
      },
      "source": [
        "#Capacitance due to Parallel plates\n",
        "WKT, Laplace's equation is ∇²V=0\n",
        "\n",
        "We'll expand ∇²V in rectangular form & since Potential in this case varies with x, we obtain:\n",
        "\n",
        "(∂²V)/(∂x²) = 0\n",
        "\n",
        "Integrating both sides yields,\n",
        "\n",
        "(∂V)/(∂x) = 0\n",
        "\n",
        "Integrating both sides again yields,\n",
        "\n",
        "V = A*x + B\n"
      ]
    },
    {
      "cell_type": "code",
      "execution_count": 73,
      "metadata": {
        "id": "lwRQu7tkWWQe"
      },
      "outputs": [],
      "source": [
        "A, B, V, d, V0, dS, S, C, y, z, pot = symbols('A, B, V, d, V0, dS, S, C, y, z, pot') #defining constants\n",
        "\n",
        "V = A*x + B #A,B are integration constants"
      ]
    },
    {
      "cell_type": "markdown",
      "metadata": {
        "id": "BzspMj1cfrhW"
      },
      "source": [
        "#Calculating V₀ by applying Boundry Conditions.\n",
        "The 1st capacitor is placed at the origin and the 2nd is determined by the user.\n",
        "\n",
        "At,\n",
        "\n",
        "x1= 0, V= 0.\n",
        "\n",
        "x2= 1.5, V= 450."
      ]
    },
    {
      "cell_type": "code",
      "execution_count": 74,
      "metadata": {
        "id": "B8ZUHAtLbsjG"
      },
      "outputs": [],
      "source": [
        "x_val1 = 0\n",
        "x_val2 = 1.5\n",
        "v1 = 0\n",
        "# v2 needs to be calculated"
      ]
    },
    {
      "cell_type": "code",
      "execution_count": 75,
      "metadata": {
        "colab": {
          "base_uri": "https://localhost:8080/"
        },
        "id": "LDRWUFDGgJ_b",
        "outputId": "3f47d1d3-55b5-4988-8261-2b7ca9f0bc18"
      },
      "outputs": [
        {
          "output_type": "stream",
          "name": "stdout",
          "text": [
            "300.000000000000 0.0\n"
          ]
        }
      ],
      "source": [
        "eq1 = Eq(x_val1*z + y - v1, 0)       #0 = 0A + B\n",
        "eq2 = Eq(x_val2*z + y - v2, 0)       #450 = 1.5A + B\n",
        "#solving both equations for A & B\n",
        "val = solve((eq1,eq2), (z, y))\n",
        "A_val = val[z]\n",
        "B_val = val[y]\n",
        "print(val[z], val[y])"
      ]
    },
    {
      "cell_type": "code",
      "execution_count": 88,
      "metadata": {
        "colab": {
          "base_uri": "https://localhost:8080/"
        },
        "id": "HHwI8ho6jGbp",
        "outputId": "7631172f-4a05-4536-ffee-cb4089cf7c8c"
      },
      "outputs": [
        {
          "output_type": "stream",
          "name": "stdout",
          "text": [
            "V = 900.000000000000 V\n"
          ]
        }
      ],
      "source": [
        "x = symbols('x')\n",
        "x1 = 3                     # x is the distance at which capacitance is calculated. In this eg: 3\n",
        "pot = A_val*x + B_val\n",
        "potential = A_val*x1 + B_val     # V = Ax + B\n",
        "print(\"V =\", potential, \"V\")"
      ]
    },
    {
      "cell_type": "markdown",
      "metadata": {
        "id": "tpXSBRNkmFxH"
      },
      "source": [
        "#Calculating Electric field Intensity, E\n",
        "E = -∇*V\n",
        "\n",
        "E = -(∂V)/(∂x) aₓ\n",
        "\n",
        "//aₓ is direction"
      ]
    },
    {
      "cell_type": "code",
      "source": [
        "E = diff((-1*pot), x)\n",
        "print(\"E =\", E, \"V/m\")"
      ],
      "metadata": {
        "colab": {
          "base_uri": "https://localhost:8080/"
        },
        "id": "7WE2AxN3PtuJ",
        "outputId": "57bcb06e-34c7-4b04-dd3e-e8bb12934d75"
      },
      "execution_count": 87,
      "outputs": [
        {
          "output_type": "stream",
          "name": "stdout",
          "text": [
            "E = -300.000000000000 V/m\n"
          ]
        }
      ]
    },
    {
      "cell_type": "markdown",
      "metadata": {
        "id": "U9O3qa6RnRLu"
      },
      "source": [
        "#Calculating Electric Displacement, D\n",
        "D = -(∈*E)\n",
        "\n",
        "D = Dₙ = -( ∈ * (-(∂V)/(∂x)) )\n",
        "\n",
        "We know that Dₙ = ⍴ₛ \n",
        "\n",
        "Therefore, ⍴ₛ = -( ∈ * (-(∂V)/(∂x)) )"
      ]
    },
    {
      "cell_type": "code",
      "execution_count": 89,
      "metadata": {
        "colab": {
          "base_uri": "https://localhost:8080/"
        },
        "id": "ferxQBr3ms19",
        "outputId": "01ff5805-cec6-4e0a-d343-5638c3675bad"
      },
      "outputs": [
        {
          "output_type": "stream",
          "name": "stdout",
          "text": [
            "-2.65500000000000e-9\n"
          ]
        }
      ],
      "source": [
        "epsi = 8.85 * 10**-12\n",
        "D = epsi*E\n",
        "print(D)\n",
        "Dn = D\n",
        "rhoS = Dn"
      ]
    },
    {
      "cell_type": "markdown",
      "metadata": {
        "id": "m2PHtKFooy5_"
      },
      "source": [
        "#Calculating Charge, Q\n",
        "\n",
        "Q = Surface integral of (rhoS*dS)"
      ]
    },
    {
      "cell_type": "code",
      "execution_count": 91,
      "metadata": {
        "colab": {
          "base_uri": "https://localhost:8080/"
        },
        "id": "ftDr5xYvpQQk",
        "outputId": "2e5e6260-67c0-429e-abfc-2d46c40054ca"
      },
      "outputs": [
        {
          "output_type": "stream",
          "name": "stdout",
          "text": [
            "-2.655e-9*S\n"
          ]
        }
      ],
      "source": [
        "Q = integrate(rhoS,S)\n",
        "print(Q)"
      ]
    },
    {
      "cell_type": "markdown",
      "metadata": {
        "id": "clmKfEYzrTH5"
      },
      "source": [
        "# Calculating Capacitance, C\n",
        "\n",
        "C = |Q| / V"
      ]
    },
    {
      "cell_type": "code",
      "execution_count": 94,
      "metadata": {
        "colab": {
          "base_uri": "https://localhost:8080/"
        },
        "id": "WU_74mZoqXfa",
        "outputId": "8272af0b-2a20-485c-e1a4-bac06995adff"
      },
      "outputs": [
        {
          "output_type": "stream",
          "name": "stdout",
          "text": [
            "Capacitance= -2.95e-12*S C\n"
          ]
        }
      ],
      "source": [
        "C = Q/potential\n",
        "print('Capacitance=', C, 'C')"
      ]
    }
  ],
  "metadata": {
    "colab": {
      "collapsed_sections": [],
      "name": "fth.ipynb",
      "provenance": []
    },
    "kernelspec": {
      "display_name": "Python 3",
      "name": "python3"
    },
    "language_info": {
      "name": "python"
    }
  },
  "nbformat": 4,
  "nbformat_minor": 0
}